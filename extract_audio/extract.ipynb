{
 "cells": [
  {
   "cell_type": "code",
   "execution_count": 1,
   "metadata": {},
   "outputs": [],
   "source": [
    "from audio_extract import extract_audio"
   ]
  },
  {
   "cell_type": "code",
   "execution_count": null,
   "metadata": {},
   "outputs": [],
   "source": [
    "INPUT_PATH=\"../audio-fragmenten/videos/audio_archief/wm13n21396.mp4\"\n",
    "OUTPUT_PATH=\"../audio-fragmenten/audio/wm13n21396.wav\"\n",
    "OUTPUT_FORMAT=\"wav\""
   ]
  },
  {
   "cell_type": "code",
   "execution_count": 5,
   "metadata": {},
   "outputs": [
    {
     "name": "stdout",
     "output_type": "stream",
     "text": [
      "Success : audio file has been saved to \"c:\\Users\\verho\\Documents\\School\\2024-2025\\Bacherlorproef\\bp-stemmen-onderscheiden\\audio-fragmenten\\audio\\wm13n21396.wav\".\n"
     ]
    }
   ],
   "source": [
    "extract_audio(\n",
    "    input_path=INPUT_PATH,\n",
    "    output_path=OUTPUT_PATH,\n",
    "    output_format=OUTPUT_FORMAT\n",
    ")"
   ]
  }
 ],
 "metadata": {
  "kernelspec": {
   "display_name": "Python 3",
   "language": "python",
   "name": "python3"
  },
  "language_info": {
   "codemirror_mode": {
    "name": "ipython",
    "version": 3
   },
   "file_extension": ".py",
   "mimetype": "text/x-python",
   "name": "python",
   "nbconvert_exporter": "python",
   "pygments_lexer": "ipython3",
   "version": "3.12.9"
  }
 },
 "nbformat": 4,
 "nbformat_minor": 2
}
