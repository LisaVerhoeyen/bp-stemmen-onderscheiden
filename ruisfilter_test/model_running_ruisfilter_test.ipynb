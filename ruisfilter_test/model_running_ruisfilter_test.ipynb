{
 "cells": [
  {
   "cell_type": "markdown",
   "metadata": {},
   "source": [
    "TODO: change to use own model instead of pretrained"
   ]
  },
  {
   "cell_type": "code",
   "execution_count": 2,
   "metadata": {},
   "outputs": [
    {
     "name": "stderr",
     "output_type": "stream",
     "text": [
      "C:\\Users\\verho\\AppData\\Local\\Packages\\PythonSoftwareFoundation.Python.3.12_qbz5n2kfra8p0\\LocalCache\\local-packages\\Python312\\site-packages\\tqdm\\auto.py:21: TqdmWarning: IProgress not found. Please update jupyter and ipywidgets. See https://ipywidgets.readthedocs.io/en/stable/user_install.html\n",
      "  from .autonotebook import tqdm as notebook_tqdm\n",
      "C:\\Users\\verho\\AppData\\Local\\Packages\\PythonSoftwareFoundation.Python.3.12_qbz5n2kfra8p0\\LocalCache\\local-packages\\Python312\\site-packages\\pydub\\utils.py:170: RuntimeWarning: Couldn't find ffmpeg or avconv - defaulting to ffmpeg, but may not work\n",
      "  warn(\"Couldn't find ffmpeg or avconv - defaulting to ffmpeg, but may not work\", RuntimeWarning)\n",
      "INFO:speechbrain.utils.quirks:Applied quirks (see `speechbrain.utils.quirks`): [disable_jit_profiling, allow_tf32]\n",
      "INFO:speechbrain.utils.quirks:Excluded quirks specified by the `SB_DISABLE_QUIRKS` environment (comma-separated list): []\n"
     ]
    }
   ],
   "source": [
    "from pathlib import Path\n",
    "import yaml\n",
    "from pyannote.audio import Pipeline, Model\n",
    "import os\n",
    "from dotenv import load_dotenv\n",
    "import re\n",
    "from pydub import AudioSegment\n",
    "from pyannote.audio.pipelines import SpeakerDiarization\n",
    "from natsort import natsorted\n",
    "\n",
    "load_dotenv()\n",
    "\n",
    "huggingface_token = os.environ.get(\"HUGGINGFACE_TOKEN\")"
   ]
  },
  {
   "cell_type": "code",
   "execution_count": 3,
   "metadata": {},
   "outputs": [
    {
     "name": "stderr",
     "output_type": "stream",
     "text": [
      "C:\\Program Files\\WindowsApps\\PythonSoftwareFoundation.Python.3.12_3.12.2800.0_x64__qbz5n2kfra8p0\\Lib\\inspect.py:1007: UserWarning: Module 'speechbrain.pretrained' was deprecated, redirecting to 'speechbrain.inference'. Please update your script. This is a change from SpeechBrain 1.0. See: https://github.com/speechbrain/speechbrain/releases/tag/v1.0.0\n",
      "  if ismodule(module) and hasattr(module, '__file__'):\n",
      "C:\\Users\\verho\\AppData\\Local\\Packages\\PythonSoftwareFoundation.Python.3.12_qbz5n2kfra8p0\\LocalCache\\local-packages\\Python312\\site-packages\\pytorch_lightning\\utilities\\migration\\utils.py:56: The loaded checkpoint was produced with Lightning v2.5.1.post0, which is newer than your current Lightning version: v2.5.0.post0\n"
     ]
    },
    {
     "name": "stdout",
     "output_type": "stream",
     "text": [
      "Model was trained with torch 2.7.0+cu126, yours is 2.6.0+cpu. This should be OK but you might want to upgrade torch.\n"
     ]
    },
    {
     "data": {
      "text/plain": [
       "<pyannote.audio.pipelines.speaker_diarization.SpeakerDiarization at 0x1f5b24703b0>"
      ]
     },
     "execution_count": 3,
     "metadata": {},
     "output_type": "execute_result"
    }
   ],
   "source": [
    "trained_pipeline = Pipeline.from_pretrained(\"./pipeline/config.yaml\")\n",
    "trained_pipeline\n",
    "model = Model.from_pretrained(\"./models/trained_model.ckpt\")\n",
    "trained_pipeline.segmentation_model = model\n",
    "\n",
    "with open(\"./parameters/config.yaml\", \"r\") as f:\n",
    "    parameters = yaml.safe_load(f)\n",
    "\n",
    "params = parameters[\"params\"]\n",
    "\n",
    "params_clust = params[\"clustering\"]\n",
    "\n",
    "trained_pipeline.instantiate({\n",
    "        \"segmentation\": {\"min_duration_off\": params[\"segmentation\"][\"min_duration_off\"]},\n",
    "        \"clustering\": params[\"clustering\"]\n",
    "})"
   ]
  },
  {
   "cell_type": "code",
   "execution_count": 4,
   "metadata": {},
   "outputs": [
    {
     "data": {
      "text/plain": [
       "<pyannote.audio.pipelines.speaker_diarization.SpeakerDiarization at 0x1f5b2b56480>"
      ]
     },
     "execution_count": 4,
     "metadata": {},
     "output_type": "execute_result"
    }
   ],
   "source": [
    "pipeline = SpeakerDiarization(\n",
    "    segmentation=model,\n",
    "    embedding=trained_pipeline.embedding,\n",
    "    embedding_exclude_overlap=trained_pipeline.embedding_exclude_overlap,\n",
    "    clustering=trained_pipeline.klustering,\n",
    ")\n",
    "\n",
    "with open(\"./parameters/config.yaml\", \"r\") as f:\n",
    "    loaded_parameters = yaml.safe_load(f)\n",
    "\n",
    "loaded_params = loaded_parameters[\"params\"]\n",
    "\n",
    "params_clust = loaded_params[\"clustering\"]\n",
    "\n",
    "parameters_segm = parameters[\"params\"][\"segmentation\"]\n",
    "\n",
    "\n",
    "pipeline.instantiate({\n",
    "    \"segmentation\": {\n",
    "        \"min_duration_off\": parameters_segm[\"min_duration_off\"],\n",
    "        \"threshold\": parameters_segm[\"threshold\"]\n",
    "    },\n",
    "    \"clustering\": params_clust\n",
    "})"
   ]
  },
  {
   "cell_type": "code",
   "execution_count": 5,
   "metadata": {},
   "outputs": [],
   "source": [
    "# TODO: niet hardgecodeerd voor eindresultaat\n",
    "path = \"../training_database/wavs/1-03_student1_jongere_Lab1.wav\""
   ]
  },
  {
   "cell_type": "code",
   "execution_count": 7,
   "metadata": {},
   "outputs": [
    {
     "name": "stdout",
     "output_type": "stream",
     "text": [
      "1-03_student1_jongere_Lab1.wav\n",
      "../training_database/wavs/geen_ruis/1-03_student1_jongere_Lab1.wav\n",
      "{'normal': {'original_length': 172.7, 'filtered_length': 172.7, 'silence_length': 0.0, 'silence_percentage': 0.0}, 'elder': {'original_length': 172.7, 'filtered_length': 172.7, 'silence_length': 0.0, 'silence_percentage': 0.0}}\n",
      "1-03_student1_oudere_Lab2.wav\n",
      "../training_database/wavs/geen_ruis/1-03_student1_oudere_Lab2.wav\n",
      "{'normal': {'original_length': 100.5, 'filtered_length': 100.5, 'silence_length': 0.0, 'silence_percentage': 0.0}, 'elder': {'original_length': 100.5, 'filtered_length': 100.5, 'silence_length': 0.0, 'silence_percentage': 0.0}}\n",
      "1-03_student2_jongere_Lab1.wav\n",
      "../training_database/wavs/geen_ruis/1-03_student2_jongere_Lab1.wav\n",
      "{'normal': {'original_length': 161.9, 'filtered_length': 161.9, 'silence_length': 0.0, 'silence_percentage': 0.0}, 'elder': {'original_length': 161.9, 'filtered_length': 161.9, 'silence_length': 0.0, 'silence_percentage': 0.0}}\n",
      "1-03_student2_oudere_Lab2.wav\n",
      "../training_database/wavs/geen_ruis/1-03_student2_oudere_Lab2.wav\n",
      "{'normal': {'original_length': 144.0, 'filtered_length': 144.0, 'silence_length': 0.0, 'silence_percentage': 0.0}, 'elder': {'original_length': 144.0, 'filtered_length': 144.0, 'silence_length': 0.0, 'silence_percentage': 0.0}}\n",
      "1-03_student3_jongere_Lab1.wav\n",
      "../training_database/wavs/geen_ruis/1-03_student3_jongere_Lab1.wav\n",
      "{'normal': {'original_length': 159.9, 'filtered_length': 159.9, 'silence_length': 0.0, 'silence_percentage': 0.0}, 'elder': {'original_length': 159.9, 'filtered_length': 159.9, 'silence_length': 0.0, 'silence_percentage': 0.0}}\n",
      "1-03_student3_oudere_Lab2.wav\n",
      "../training_database/wavs/geen_ruis/1-03_student3_oudere_Lab2.wav\n",
      "{'normal': {'original_length': 124.7, 'filtered_length': 124.7, 'silence_length': 0.0, 'silence_percentage': 0.0}, 'elder': {'original_length': 124.7, 'filtered_length': 124.7, 'silence_length': 0.0, 'silence_percentage': 0.0}}\n",
      "1-03_student4_jongere_Lab1.wav\n",
      "../training_database/wavs/geen_ruis/1-03_student4_jongere_Lab1.wav\n",
      "{'normal': {'original_length': 157.6, 'filtered_length': 157.6, 'silence_length': 0.0, 'silence_percentage': 0.0}, 'elder': {'original_length': 157.6, 'filtered_length': 157.6, 'silence_length': 0.0, 'silence_percentage': 0.0}}\n",
      "1-03_student4_oudere_Lab2.wav\n",
      "../training_database/wavs/geen_ruis/1-03_student4_oudere_Lab2.wav\n",
      "{'normal': {'original_length': 92.0, 'filtered_length': 92.0, 'silence_length': 0.0, 'silence_percentage': 0.0}, 'elder': {'original_length': 92.0, 'filtered_length': 92.0, 'silence_length': 0.0, 'silence_percentage': 0.0}}\n",
      "1-03_student5_jongere_Lab1.wav\n",
      "../training_database/wavs/geen_ruis/1-03_student5_jongere_Lab1.wav\n",
      "{'normal': {'original_length': 264.1, 'filtered_length': 264.1, 'silence_length': 0.0, 'silence_percentage': 0.0}, 'elder': {'original_length': 264.1, 'filtered_length': 264.1, 'silence_length': 0.0, 'silence_percentage': 0.0}}\n",
      "1-03_student5_oudere_Lab2.wav\n",
      "../training_database/wavs/geen_ruis/1-03_student5_oudere_Lab2.wav\n",
      "{'normal': {'original_length': 114.0, 'filtered_length': 114.0, 'silence_length': 0.0, 'silence_percentage': 0.0}, 'elder': {'original_length': 114.0, 'filtered_length': 114.0, 'silence_length': 0.0, 'silence_percentage': 0.0}}\n",
      "1-03_student6_jongere_Lab1.wav\n",
      "../training_database/wavs/geen_ruis/1-03_student6_jongere_Lab1.wav\n",
      "{'normal': {'original_length': 187.5, 'filtered_length': 187.5, 'silence_length': 0.0, 'silence_percentage': 0.0}, 'elder': {'original_length': 187.5, 'filtered_length': 187.5, 'silence_length': 0.0, 'silence_percentage': 0.0}}\n",
      "1-03_student6_oudere_Lab2.wav\n",
      "../training_database/wavs/geen_ruis/1-03_student6_oudere_Lab2.wav\n",
      "{'normal': {'original_length': 82.7, 'filtered_length': 82.7, 'silence_length': 0.0, 'silence_percentage': 0.0}, 'elder': {'original_length': 82.7, 'filtered_length': 82.7, 'silence_length': 0.0, 'silence_percentage': 0.0}}\n",
      "1-03_student7_jongere_Lab1.wav\n",
      "../training_database/wavs/geen_ruis/1-03_student7_jongere_Lab1.wav\n",
      "{'normal': {'original_length': 171.8, 'filtered_length': 171.8, 'silence_length': 0.0, 'silence_percentage': 0.0}, 'elder': {'original_length': 171.8, 'filtered_length': 171.8, 'silence_length': 0.0, 'silence_percentage': 0.0}}\n",
      "1-03_student7_oudere_Lab2.wav\n",
      "../training_database/wavs/geen_ruis/1-03_student7_oudere_Lab2.wav\n",
      "{'normal': {'original_length': 100.1, 'filtered_length': 100.1, 'silence_length': 0.0, 'silence_percentage': 0.0}, 'elder': {'original_length': 100.1, 'filtered_length': 100.1, 'silence_length': 0.0, 'silence_percentage': 0.0}}\n",
      "1-03_student8_jongere_Lab1.wav\n",
      "../training_database/wavs/geen_ruis/1-03_student8_jongere_Lab1.wav\n",
      "{'normal': {'original_length': 214.8, 'filtered_length': 214.8, 'silence_length': 0.0, 'silence_percentage': 0.0}, 'elder': {'original_length': 214.8, 'filtered_length': 214.8, 'silence_length': 0.0, 'silence_percentage': 0.0}}\n",
      "1-03_student8_oudere_Lab2.wav\n",
      "../training_database/wavs/geen_ruis/1-03_student8_oudere_Lab2.wav\n",
      "{'normal': {'original_length': 141.3, 'filtered_length': 141.3, 'silence_length': 0.0, 'silence_percentage': 0.0}, 'elder': {'original_length': 141.3, 'filtered_length': 141.3, 'silence_length': 0.0, 'silence_percentage': 0.0}}\n",
      "file1.wav\n",
      "../training_database/wavs/geen_ruis/file1.wav\n",
      "{'normal': {'original_length': 338.0, 'filtered_length': 338.0, 'silence_length': 0.0, 'silence_percentage': 0.0}, 'elder': {'original_length': 338.0, 'filtered_length': 338.0, 'silence_length': 0.0, 'silence_percentage': 0.0}}\n",
      "file10.wav\n",
      "../training_database/wavs/geen_ruis/file10.wav\n",
      "{'normal': {'original_length': 277.2, 'filtered_length': 277.2, 'silence_length': 0.0, 'silence_percentage': 0.0}, 'elder': {'original_length': 277.2, 'filtered_length': 277.2, 'silence_length': 0.0, 'silence_percentage': 0.0}}\n",
      "file11.wav\n",
      "../training_database/wavs/geen_ruis/file11.wav\n",
      "{'normal': {'original_length': 225.6, 'filtered_length': 225.6, 'silence_length': 0.0, 'silence_percentage': 0.0}, 'elder': {'original_length': 225.6, 'filtered_length': 225.6, 'silence_length': 0.0, 'silence_percentage': 0.0}}\n",
      "file12.wav\n",
      "../training_database/wavs/geen_ruis/file12.wav\n",
      "{'normal': {'original_length': 559.8, 'filtered_length': 559.8, 'silence_length': 0.0, 'silence_percentage': 0.0}, 'elder': {'original_length': 559.8, 'filtered_length': 559.8, 'silence_length': 0.0, 'silence_percentage': 0.0}}\n",
      "file13.wav\n",
      "../training_database/wavs/geen_ruis/file13.wav\n",
      "{'normal': {'original_length': 183.4, 'filtered_length': 183.4, 'silence_length': 0.0, 'silence_percentage': 0.0}, 'elder': {'original_length': 183.4, 'filtered_length': 183.4, 'silence_length': 0.0, 'silence_percentage': 0.0}}\n",
      "file14.wav\n",
      "../training_database/wavs/geen_ruis/file14.wav\n",
      "{'normal': {'original_length': 540.9, 'filtered_length': 540.9, 'silence_length': 0.0, 'silence_percentage': 0.0}, 'elder': {'original_length': 540.9, 'filtered_length': 540.9, 'silence_length': 0.0, 'silence_percentage': 0.0}}\n",
      "file15.wav\n",
      "../training_database/wavs/geen_ruis/file15.wav\n",
      "{'normal': {'original_length': 5769.3, 'filtered_length': 5769.3, 'silence_length': 0.0, 'silence_percentage': 0.0}, 'elder': {'original_length': 5769.3, 'filtered_length': 5769.3, 'silence_length': 0.0, 'silence_percentage': 0.0}}\n",
      "file16.wav\n",
      "../training_database/wavs/geen_ruis/file16.wav\n",
      "{'normal': {'original_length': 752.6, 'filtered_length': 752.6, 'silence_length': 0.0, 'silence_percentage': 0.0}, 'elder': {'original_length': 752.6, 'filtered_length': 752.6, 'silence_length': 0.0, 'silence_percentage': 0.0}}\n",
      "file17.wav\n",
      "../training_database/wavs/geen_ruis/file17.wav\n",
      "{'normal': {'original_length': 226.4, 'filtered_length': 226.4, 'silence_length': 0.0, 'silence_percentage': 0.0}, 'elder': {'original_length': 226.4, 'filtered_length': 226.4, 'silence_length': 0.0, 'silence_percentage': 0.0}}\n",
      "file18.wav\n",
      "../training_database/wavs/geen_ruis/file18.wav\n",
      "{'normal': {'original_length': 296.1, 'filtered_length': 296.1, 'silence_length': 0.0, 'silence_percentage': 0.0}, 'elder': {'original_length': 296.1, 'filtered_length': 296.1, 'silence_length': 0.0, 'silence_percentage': 0.0}}\n",
      "file19.wav\n",
      "../training_database/wavs/geen_ruis/file19.wav\n",
      "{'normal': {'original_length': 544.6, 'filtered_length': 544.6, 'silence_length': 0.0, 'silence_percentage': 0.0}, 'elder': {'original_length': 544.6, 'filtered_length': 544.6, 'silence_length': 0.0, 'silence_percentage': 0.0}}\n",
      "file2.wav\n",
      "../training_database/wavs/geen_ruis/file2.wav\n",
      "{'normal': {'original_length': 921.7, 'filtered_length': 921.7, 'silence_length': 0.0, 'silence_percentage': 0.0}, 'elder': {'original_length': 921.7, 'filtered_length': 921.7, 'silence_length': 0.0, 'silence_percentage': 0.0}}\n",
      "file20.wav\n",
      "../training_database/wavs/geen_ruis/file20.wav\n",
      "{'normal': {'original_length': 375.2, 'filtered_length': 375.2, 'silence_length': 0.0, 'silence_percentage': 0.0}, 'elder': {'original_length': 375.2, 'filtered_length': 375.2, 'silence_length': 0.0, 'silence_percentage': 0.0}}\n",
      "file21.wav\n",
      "../training_database/wavs/geen_ruis/file21.wav\n",
      "{'normal': {'original_length': 10845.2, 'filtered_length': 10845.2, 'silence_length': 0.0, 'silence_percentage': 0.0}, 'elder': {'original_length': 10845.2, 'filtered_length': 10845.2, 'silence_length': 0.0, 'silence_percentage': 0.0}}\n",
      "file22.wav\n",
      "../training_database/wavs/geen_ruis/file22.wav\n",
      "{'normal': {'original_length': 134.7, 'filtered_length': 134.7, 'silence_length': 0.0, 'silence_percentage': 0.0}, 'elder': {'original_length': 134.7, 'filtered_length': 134.7, 'silence_length': 0.0, 'silence_percentage': 0.0}}\n",
      "file3.wav\n",
      "../training_database/wavs/geen_ruis/file3.wav\n",
      "{'normal': {'original_length': 347.1, 'filtered_length': 347.1, 'silence_length': 0.0, 'silence_percentage': 0.0}, 'elder': {'original_length': 347.1, 'filtered_length': 347.1, 'silence_length': 0.0, 'silence_percentage': 0.0}}\n",
      "file4.wav\n",
      "../training_database/wavs/geen_ruis/file4.wav\n",
      "{'normal': {'original_length': 310.0, 'filtered_length': 310.0, 'silence_length': 0.0, 'silence_percentage': 0.0}, 'elder': {'original_length': 310.0, 'filtered_length': 310.0, 'silence_length': 0.0, 'silence_percentage': 0.0}}\n",
      "file5.wav\n",
      "../training_database/wavs/geen_ruis/file5.wav\n",
      "{'normal': {'original_length': 142.0, 'filtered_length': 142.0, 'silence_length': 0.0, 'silence_percentage': 0.0}, 'elder': {'original_length': 142.0, 'filtered_length': 142.0, 'silence_length': 0.0, 'silence_percentage': 0.0}}\n",
      "file6.wav\n",
      "../training_database/wavs/geen_ruis/file6.wav\n",
      "{'normal': {'original_length': 258.3, 'filtered_length': 258.3, 'silence_length': 0.0, 'silence_percentage': 0.0}, 'elder': {'original_length': 258.3, 'filtered_length': 258.3, 'silence_length': 0.0, 'silence_percentage': 0.0}}\n",
      "file7.wav\n",
      "../training_database/wavs/geen_ruis/file7.wav\n",
      "{'normal': {'original_length': 271.5, 'filtered_length': 271.5, 'silence_length': 0.0, 'silence_percentage': 0.0}, 'elder': {'original_length': 271.5, 'filtered_length': 271.5, 'silence_length': 0.0, 'silence_percentage': 0.0}}\n",
      "file8.wav\n",
      "../training_database/wavs/geen_ruis/file8.wav\n",
      "{'normal': {'original_length': 215.4, 'filtered_length': 215.4, 'silence_length': 0.0, 'silence_percentage': 0.0}, 'elder': {'original_length': 215.4, 'filtered_length': 215.4, 'silence_length': 0.0, 'silence_percentage': 0.0}}\n",
      "file9.wav\n",
      "../training_database/wavs/geen_ruis/file9.wav\n",
      "{'normal': {'original_length': 158.9, 'filtered_length': 158.9, 'silence_length': 0.0, 'silence_percentage': 0.0}, 'elder': {'original_length': 158.9, 'filtered_length': 158.9, 'silence_length': 0.0, 'silence_percentage': 0.0}}\n"
     ]
    }
   ],
   "source": [
    "for file in os.listdir(\"../training_database/wavs/geen_ruis\"):\n",
    "    print(file)\n",
    "    %run ./audio_preprocessing.py \"../training_database/wavs/geen_ruis/$file\""
   ]
  },
  {
   "cell_type": "code",
   "execution_count": 30,
   "metadata": {},
   "outputs": [
    {
     "name": "stderr",
     "output_type": "stream",
     "text": [
      "/home/lisa_verhoeyen/.local/lib/python3.10/site-packages/pyannote/audio/models/blocks/pooling.py:104: UserWarning: std(): degrees of freedom is <= 0. Correction should be strictly less than the reduction factor (input numel divided by output numel). (Triggered internally at /pytorch/aten/src/ATen/native/ReduceOps.cpp:1839.)\n",
      "  std = sequences.std(dim=-1, correction=1)\n"
     ]
    }
   ],
   "source": [
    "# apply pretrained pipeline\n",
    "diarization = pipeline(path)    "
   ]
  },
  {
   "cell_type": "markdown",
   "metadata": {},
   "source": [
    "create rttm file based on model result"
   ]
  },
  {
   "cell_type": "code",
   "execution_count": 31,
   "metadata": {},
   "outputs": [],
   "source": [
    "file_name = re.search(r'.*\\/(.+?)\\.wav', path).group(1)\n",
    "\n",
    "# delete file if it already exists so a new file can get created\n",
    "if os.path.exists(f\"./results/rttm/{file_name}.rttm\"):\n",
    "    os.remove(f\"./results/rttm/{file_name}.rttm\")\n",
    "\n",
    "f = open(f\"./results/rttm/{file_name}.rttm\", \"w\")\n",
    "for turn, _, speaker in diarization.itertracks(yield_label=True):\n",
    "    f.write(f\"SPEAKER {file_name} 1 {round(turn.start, 3)} {round(turn.end-turn.start, 3)} <NA> <NA> {speaker} <NA> <NA>\\n\")\n",
    "\n",
    "f.close()"
   ]
  },
  {
   "cell_type": "markdown",
   "metadata": {},
   "source": [
    "turn result into audio files"
   ]
  },
  {
   "cell_type": "code",
   "execution_count": null,
   "metadata": {},
   "outputs": [],
   "source": [
    "audio = AudioSegment.from_wav(path)\n",
    "\n",
    "os.mkdir(f\"./results/audio/{file_name}/\")\n",
    "\n",
    "\n",
    "for turn, _, speaker in diarization.itertracks(yield_label=True):\n",
    "    if not os.path.isdir(f\"./results/audio/{file_name}/{speaker}\"):\n",
    "        os.mkdir(f\"./results/audio/{file_name}/{speaker}\")\n",
    "\n",
    "    segment = audio[turn.start * 1000:turn.end * 1000]  # Convert seconds to milliseconds\n",
    "    segment.export(f\"./results/audio/{file_name}/{speaker}/speaker_{speaker}_{turn.start:.1f}-{turn.end:.1f}.wav\", format=\"wav\")"
   ]
  },
  {
   "cell_type": "markdown",
   "metadata": {},
   "source": [
    "create audio file based on speaker by combining audio files"
   ]
  },
  {
   "cell_type": "code",
   "execution_count": 34,
   "metadata": {},
   "outputs": [],
   "source": [
    "speakers = os.listdir(f\"./results/audio/{file_name}\")\n",
    "\n",
    "for speaker in speakers:\n",
    "    files_list = os.listdir(f\"./results/audio/{file_name}/{speaker}\")\n",
    "    files_list = natsorted(files_list)\n",
    "\n",
    "    combined = AudioSegment.from_file(f\"./results/audio/{file_name}/{speaker}/{files_list[0]}\")\n",
    "    for i in range(1,len(files_list)):\n",
    "        combined = combined.append(AudioSegment.from_file(f\"./results/audio/{file_name}/{speaker}/{files_list[i]}\"), crossfade=0.0)\n",
    "\n",
    "    combined.export(f\"./results/audio/{file_name}_{speaker}.wav\", format=\"wav\")"
   ]
  }
 ],
 "metadata": {
  "kernelspec": {
   "display_name": "Python 3",
   "language": "python",
   "name": "python3"
  },
  "language_info": {
   "codemirror_mode": {
    "name": "ipython",
    "version": 3
   },
   "file_extension": ".py",
   "mimetype": "text/x-python",
   "name": "python",
   "nbconvert_exporter": "python",
   "pygments_lexer": "ipython3",
   "version": "3.10.12"
  }
 },
 "nbformat": 4,
 "nbformat_minor": 2
}
