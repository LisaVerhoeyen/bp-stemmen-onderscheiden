{
 "cells": [
  {
   "cell_type": "code",
   "execution_count": 1,
   "metadata": {},
   "outputs": [
    {
     "name": "stderr",
     "output_type": "stream",
     "text": [
      "C:\\Users\\verho\\AppData\\Local\\Packages\\PythonSoftwareFoundation.Python.3.12_qbz5n2kfra8p0\\LocalCache\\local-packages\\Python312\\site-packages\\tqdm\\auto.py:21: TqdmWarning: IProgress not found. Please update jupyter and ipywidgets. See https://ipywidgets.readthedocs.io/en/stable/user_install.html\n",
      "  from .autonotebook import tqdm as notebook_tqdm\n",
      "INFO:speechbrain.utils.quirks:Applied quirks (see `speechbrain.utils.quirks`): [allow_tf32, disable_jit_profiling]\n",
      "INFO:speechbrain.utils.quirks:Excluded quirks specified by the `SB_DISABLE_QUIRKS` environment (comma-separated list): []\n",
      "C:\\Program Files\\WindowsApps\\PythonSoftwareFoundation.Python.3.12_3.12.2544.0_x64__qbz5n2kfra8p0\\Lib\\inspect.py:1007: UserWarning: Module 'speechbrain.pretrained' was deprecated, redirecting to 'speechbrain.inference'. Please update your script. This is a change from SpeechBrain 1.0. See: https://github.com/speechbrain/speechbrain/releases/tag/v1.0.0\n",
      "  if ismodule(module) and hasattr(module, '__file__'):\n"
     ]
    }
   ],
   "source": [
    "from pyannote.audio import Pipeline\n",
    "import os\n",
    "\n",
    "huggingface_token = os.getenv(\"HUGGINGFACE_TOKEN\")\n",
    "\n",
    "pipeline = Pipeline.from_pretrained(\n",
    "    \"pyannote/speaker-diarization-3.1\",\n",
    "    use_auth_token=huggingface_token)"
   ]
  },
  {
   "cell_type": "code",
   "execution_count": 2,
   "metadata": {},
   "outputs": [
    {
     "name": "stderr",
     "output_type": "stream",
     "text": [
      "C:\\Users\\verho\\AppData\\Local\\Packages\\PythonSoftwareFoundation.Python.3.12_qbz5n2kfra8p0\\LocalCache\\local-packages\\Python312\\site-packages\\pyannote\\audio\\models\\blocks\\pooling.py:104: UserWarning: std(): degrees of freedom is <= 0. Correction should be strictly less than the reduction factor (input numel divided by output numel). (Triggered internally at C:\\actions-runner\\_work\\pytorch\\pytorch\\pytorch\\aten\\src\\ATen\\native\\ReduceOps.cpp:1831.)\n",
      "  std = sequences.std(dim=-1, correction=1)\n"
     ]
    },
    {
     "name": "stdout",
     "output_type": "stream",
     "text": [
      "start=3.9s stop=12.0s speaker_SPEAKER_00\n",
      "start=12.0s stop=14.3s speaker_SPEAKER_01\n",
      "start=15.5s stop=20.4s speaker_SPEAKER_01\n",
      "start=21.2s stop=22.2s speaker_SPEAKER_01\n",
      "start=23.6s stop=31.7s speaker_SPEAKER_01\n",
      "start=32.1s stop=34.0s speaker_SPEAKER_01\n",
      "start=34.6s stop=36.9s speaker_SPEAKER_01\n",
      "start=38.0s stop=39.4s speaker_SPEAKER_01\n",
      "start=39.7s stop=46.6s speaker_SPEAKER_01\n",
      "start=47.0s stop=53.2s speaker_SPEAKER_01\n",
      "start=53.6s stop=55.4s speaker_SPEAKER_01\n",
      "start=55.7s stop=60.4s speaker_SPEAKER_01\n",
      "start=61.0s stop=69.4s speaker_SPEAKER_01\n",
      "start=70.3s stop=71.8s speaker_SPEAKER_01\n",
      "start=72.2s stop=82.5s speaker_SPEAKER_01\n",
      "start=83.5s stop=87.0s speaker_SPEAKER_01\n",
      "start=87.7s stop=93.5s speaker_SPEAKER_01\n",
      "start=94.3s stop=95.7s speaker_SPEAKER_01\n",
      "start=96.7s stop=98.7s speaker_SPEAKER_01\n",
      "start=99.0s stop=101.5s speaker_SPEAKER_01\n",
      "start=102.2s stop=103.2s speaker_SPEAKER_01\n",
      "start=104.0s stop=106.8s speaker_SPEAKER_01\n",
      "start=108.4s stop=109.7s speaker_SPEAKER_01\n",
      "start=110.7s stop=111.9s speaker_SPEAKER_01\n",
      "start=112.0s stop=112.0s speaker_SPEAKER_01\n",
      "start=112.4s stop=115.8s speaker_SPEAKER_01\n",
      "start=116.5s stop=120.3s speaker_SPEAKER_01\n",
      "start=120.3s stop=120.6s speaker_SPEAKER_00\n",
      "start=121.0s stop=153.6s speaker_SPEAKER_00\n"
     ]
    }
   ],
   "source": [
    "import torch\n",
    "# pipeline.to(torch.device(\"cuda\"))\n",
    "\n",
    "# apply pretrained pipeline\n",
    "diarization = pipeline(\"../audio-fragmenten/audio/Johan_Museeuw_en_Dirk_Nachtergaele_over_de_Omloop_Het_Volk_2003_,_2022.wav\")\n",
    "\n",
    "# print the result\n",
    "for turn, _, speaker in diarization.itertracks(yield_label=True):\n",
    "    print(f\"start={turn.start:.1f}s stop={turn.end:.1f}s speaker_{speaker}\")\n",
    "# start=0.2s stop=1.5s speaker_0\n",
    "# start=1.8s stop=3.9s speaker_1\n",
    "# start=4.2s stop=5.7s speaker_0\n",
    "# ..."
   ]
  },
  {
   "cell_type": "code",
   "execution_count": 3,
   "metadata": {},
   "outputs": [
    {
     "name": "stdout",
     "output_type": "stream",
     "text": [
      "29\n"
     ]
    }
   ],
   "source": [
    "print(len(diarization))"
   ]
  },
  {
   "cell_type": "code",
   "execution_count": 4,
   "metadata": {},
   "outputs": [
    {
     "name": "stdout",
     "output_type": "stream",
     "text": [
      "<class 'pyannote.core.segment.Segment'>\n",
      "<class 'str'>\n",
      "<class 'pyannote.core.segment.Segment'>\n",
      "<class 'str'>\n",
      "<class 'pyannote.core.segment.Segment'>\n",
      "<class 'str'>\n",
      "<class 'pyannote.core.segment.Segment'>\n",
      "<class 'str'>\n",
      "<class 'pyannote.core.segment.Segment'>\n",
      "<class 'str'>\n",
      "<class 'pyannote.core.segment.Segment'>\n",
      "<class 'str'>\n",
      "<class 'pyannote.core.segment.Segment'>\n",
      "<class 'str'>\n",
      "<class 'pyannote.core.segment.Segment'>\n",
      "<class 'str'>\n",
      "<class 'pyannote.core.segment.Segment'>\n",
      "<class 'str'>\n",
      "<class 'pyannote.core.segment.Segment'>\n",
      "<class 'str'>\n",
      "<class 'pyannote.core.segment.Segment'>\n",
      "<class 'str'>\n",
      "<class 'pyannote.core.segment.Segment'>\n",
      "<class 'str'>\n",
      "<class 'pyannote.core.segment.Segment'>\n",
      "<class 'str'>\n",
      "<class 'pyannote.core.segment.Segment'>\n",
      "<class 'str'>\n",
      "<class 'pyannote.core.segment.Segment'>\n",
      "<class 'str'>\n",
      "<class 'pyannote.core.segment.Segment'>\n",
      "<class 'str'>\n",
      "<class 'pyannote.core.segment.Segment'>\n",
      "<class 'str'>\n",
      "<class 'pyannote.core.segment.Segment'>\n",
      "<class 'str'>\n",
      "<class 'pyannote.core.segment.Segment'>\n",
      "<class 'str'>\n",
      "<class 'pyannote.core.segment.Segment'>\n",
      "<class 'str'>\n",
      "<class 'pyannote.core.segment.Segment'>\n",
      "<class 'str'>\n",
      "<class 'pyannote.core.segment.Segment'>\n",
      "<class 'str'>\n",
      "<class 'pyannote.core.segment.Segment'>\n",
      "<class 'str'>\n",
      "<class 'pyannote.core.segment.Segment'>\n",
      "<class 'str'>\n",
      "<class 'pyannote.core.segment.Segment'>\n",
      "<class 'str'>\n",
      "<class 'pyannote.core.segment.Segment'>\n",
      "<class 'str'>\n",
      "<class 'pyannote.core.segment.Segment'>\n",
      "<class 'str'>\n",
      "<class 'pyannote.core.segment.Segment'>\n",
      "<class 'str'>\n",
      "<class 'pyannote.core.segment.Segment'>\n",
      "<class 'str'>\n"
     ]
    }
   ],
   "source": [
    "tracks = []\n",
    "for segment in diarization.itersegments():\n",
    "    print(type(segment))\n",
    "    track = diarization.get_tracks(segment)\n",
    "    tracks.append(track)\n",
    "    print(type(next(iter(track))))"
   ]
  },
  {
   "cell_type": "code",
   "execution_count": 6,
   "metadata": {},
   "outputs": [],
   "source": [
    "from pydub import AudioSegment\n",
    "\n",
    "audio = AudioSegment.from_wav(\"../audio-fragmenten/audio/Johan_Museeuw_en_Dirk_Nachtergaele_over_de_Omloop_Het_Volk_2003_,_2022.wav\")\n",
    "for turn, _, speaker in diarization.itertracks(yield_label=True):\n",
    "    segment = audio[turn.start * 1000:turn.end * 1000]  # Convert seconds to milliseconds\n",
    "    segment.export(f\"../output/pyannote/speaker_{speaker}_{turn.start:.1f}-{turn.end:.1f}.wav\", format=\"wav\")\n"
   ]
  }
 ],
 "metadata": {
  "kernelspec": {
   "display_name": "Python 3",
   "language": "python",
   "name": "python3"
  },
  "language_info": {
   "codemirror_mode": {
    "name": "ipython",
    "version": 3
   },
   "file_extension": ".py",
   "mimetype": "text/x-python",
   "name": "python",
   "nbconvert_exporter": "python",
   "pygments_lexer": "ipython3",
   "version": "3.12.9"
  }
 },
 "nbformat": 4,
 "nbformat_minor": 2
}
