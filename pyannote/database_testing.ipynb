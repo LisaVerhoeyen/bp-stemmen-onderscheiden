{
 "cells": [
  {
   "cell_type": "code",
   "execution_count": 16,
   "id": "2375e23c",
   "metadata": {},
   "outputs": [],
   "source": [
    "import os\n",
    "\n",
    "from pyannote.database import registry, FileFinder\n",
    "import pyannote.core\n",
    "\n",
    "huggingface_token = os.getenv(\"HUGGINGFACE_TOKEN\")"
   ]
  },
  {
   "cell_type": "code",
   "execution_count": 24,
   "id": "3b0c3386",
   "metadata": {},
   "outputs": [
    {
     "name": "stderr",
     "output_type": "stream",
     "text": [
      "/home/vicuser/.local/lib/python3.10/site-packages/pyannote/database/registry.py:499: UserWarning: Replacing existing BP.SpeakerDiarization.VlaamseAudio protocol by the one defined in '/home/vicuser/bp-stemmen-onderscheiden/pyannote/database.yml'.\n",
      "  warnings.warn(\n"
     ]
    }
   ],
   "source": [
    "registry.load_database(\"database.yml\")\n",
    "\n",
    "protocol = registry.get_protocol(\"BP.SpeakerDiarization.VlaamseAudio\", {\"audio\":FileFinder()})\n",
    "\n",
    "for file in protocol.train():\n",
    "   assert \"annotation\" in file\n",
    "   assert isinstance(file[\"annotation\"], pyannote.core.Annotation)\n",
    "   assert \"annotated\" in file\n",
    "   assert isinstance(file[\"annotated\"], pyannote.core.Timeline)\n",
    "\n",
    "for file in protocol.test():\n",
    "   assert \"annotation\" in file\n",
    "   assert isinstance(file[\"annotation\"], pyannote.core.Annotation)\n",
    "   assert \"annotated\" in file\n",
    "   assert isinstance(file[\"annotated\"], pyannote.core.Timeline)\n",
    "\n",
    "for file in protocol.development():\n",
    "   assert \"annotation\" in file\n",
    "   assert isinstance(file[\"annotation\"], pyannote.core.Annotation)\n",
    "   assert \"annotated\" in file\n",
    "   assert isinstance(file[\"annotated\"], pyannote.core.Timeline)"
   ]
  },
  {
   "cell_type": "code",
   "execution_count": 25,
   "id": "1f2d8eb3",
   "metadata": {},
   "outputs": [
    {
     "data": {
      "text/plain": [
       "['SpeakerDiarization']"
      ]
     },
     "execution_count": 25,
     "metadata": {},
     "output_type": "execute_result"
    }
   ],
   "source": [
    "database = registry.get_database(\"BP\")\n",
    "\n",
    "database.get_tasks()"
   ]
  },
  {
   "cell_type": "code",
   "execution_count": 26,
   "id": "783f228f",
   "metadata": {},
   "outputs": [
    {
     "name": "stdout",
     "output_type": "stream",
     "text": [
      "/home/vicuser/bp-stemmen-onderscheiden/pyannote/../training_database/wavs/file1.wav\n",
      "/home/vicuser/bp-stemmen-onderscheiden/pyannote/../training_database/wavs/file2.wav\n",
      "/home/vicuser/bp-stemmen-onderscheiden/pyannote/../training_database/wavs/file3.wav\n",
      "/home/vicuser/bp-stemmen-onderscheiden/pyannote/../training_database/wavs/file4.wav\n"
     ]
    }
   ],
   "source": [
    "for file in protocol.train():\n",
    "    print(file[\"audio\"])"
   ]
  },
  {
   "cell_type": "code",
   "execution_count": 27,
   "id": "f1a76737",
   "metadata": {},
   "outputs": [
    {
     "name": "stdout",
     "output_type": "stream",
     "text": [
      "/home/vicuser/bp-stemmen-onderscheiden/pyannote/../training_database/wavs/testfile1.wav\n",
      "/home/vicuser/bp-stemmen-onderscheiden/pyannote/../training_database/wavs/testfile2.wav\n",
      "/home/vicuser/bp-stemmen-onderscheiden/pyannote/../training_database/wavs/testfile3.wav\n",
      "/home/vicuser/bp-stemmen-onderscheiden/pyannote/../training_database/wavs/testfile4.wav\n"
     ]
    }
   ],
   "source": [
    "for file in protocol.test():\n",
    "    print(file[\"audio\"])"
   ]
  },
  {
   "cell_type": "code",
   "execution_count": 28,
   "id": "09392e0d",
   "metadata": {},
   "outputs": [
    {
     "name": "stdout",
     "output_type": "stream",
     "text": [
      "/home/vicuser/bp-stemmen-onderscheiden/pyannote/../training_database/wavs/file10.wav\n",
      "/home/vicuser/bp-stemmen-onderscheiden/pyannote/../training_database/wavs/file13.wav\n"
     ]
    }
   ],
   "source": [
    "for file in protocol.development():\n",
    "    print(file[\"audio\"])"
   ]
  },
  {
   "cell_type": "code",
   "execution_count": 29,
   "id": "41523623",
   "metadata": {},
   "outputs": [
    {
     "data": {
      "image/png": "[encoded data removed]",
      "text/plain": [
       "<pyannote.core.annotation.Annotation at 0x7f6ff8bbe530>"
      ]
     },
     "execution_count": 29,
     "metadata": {},
     "output_type": "execute_result"
    }
   ],
   "source": [
    "test_file = next(protocol.test())\n",
    "test_file[\"annotation\"]"
   ]
  },
  {
   "cell_type": "code",
   "execution_count": 30,
   "id": "3cde7cfd",
   "metadata": {},
   "outputs": [
    {
     "data": {
      "image/png": "[encoded data removed]",
      "text/plain": [
       "<pyannote.core.annotation.Annotation at 0x7f6ff8a8bdf0>"
      ]
     },
     "execution_count": 30,
     "metadata": {},
     "output_type": "execute_result"
    }
   ],
   "source": [
    "dev_file = next(protocol.development())\n",
    "dev_file[\"annotation\"]"
   ]
  }
 ],
 "metadata": {
  "kernelspec": {
   "display_name": "Python 3",
   "language": "python",
   "name": "python3"
  },
  "language_info": {
   "codemirror_mode": {
    "name": "ipython",
    "version": 3
   },
   "file_extension": ".py",
   "mimetype": "text/x-python",
   "name": "python",
   "nbconvert_exporter": "python",
   "pygments_lexer": "ipython3",
   "version": "3.10.12"
  }
 },
 "nbformat": 4,
 "nbformat_minor": 5
}
