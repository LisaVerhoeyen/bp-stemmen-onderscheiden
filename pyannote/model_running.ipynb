{
 "cells": [
  {
   "cell_type": "markdown",
   "metadata": {},
   "source": [
    "TODO: change to use own model instead of pretrained"
   ]
  },
  {
   "cell_type": "code",
   "execution_count": 5,
   "metadata": {},
   "outputs": [],
   "source": [
    "from pyannote.audio import Pipeline\n",
    "import os\n",
    "from dotenv import load_dotenv\n",
    "import re\n",
    "\n",
    "load_dotenv()\n",
    "\n",
    "huggingface_token = os.environ.get(\"HUGGINGFACE_TOKEN\")\n",
    "\n",
    "pipeline = Pipeline.from_pretrained(\n",
    "    \"pyannote/speaker-diarization-3.1\",\n",
    "    use_auth_token=huggingface_token)"
   ]
  },
  {
   "cell_type": "code",
   "execution_count": null,
   "metadata": {},
   "outputs": [
    {
     "name": "stdout",
     "output_type": "stream",
     "text": [
      "file19\n"
     ]
    }
   ],
   "source": [
    "path = \"../training_database/wavs/file19.wav\""
   ]
  },
  {
   "cell_type": "code",
   "execution_count": null,
   "metadata": {},
   "outputs": [
    {
     "name": "stdout",
     "output_type": "stream",
     "text": [
      "(<Segment(10.7972, 12.4003)>, 'A', 'SPEAKER_01')\n",
      "(<Segment(12.7378, 14.7628)>, 'B', 'SPEAKER_01')\n",
      "(<Segment(15.3535, 18.3066)>, 'C', 'SPEAKER_01')\n",
      "(<Segment(18.5597, 19.2516)>, 'D', 'SPEAKER_01')\n",
      "(<Segment(20.9728, 21.6647)>, 'E', 'SPEAKER_01')\n",
      "(<Segment(22.6097, 26.0185)>, 'F', 'SPEAKER_01')\n",
      "(<Segment(26.5247, 28.5666)>, 'G', 'SPEAKER_01')\n",
      "(<Segment(28.8028, 30.6085)>, 'H', 'SPEAKER_01')\n",
      "(<Segment(31.216, 34.9116)>, 'I', 'SPEAKER_01')\n",
      "(<Segment(34.9285, 37.5272)>, 'J', 'SPEAKER_01')\n",
      "(<Segment(37.966, 38.8435)>, 'K', 'SPEAKER_01')\n",
      "(<Segment(41.611, 43.4503)>, 'L', 'SPEAKER_01')\n",
      "(<Segment(43.9735, 48.0403)>, 'M', 'SPEAKER_01')\n",
      "(<Segment(48.9685, 51.3478)>, 'N', 'SPEAKER_01')\n",
      "(<Segment(52.2253, 59.6166)>, 'O', 'SPEAKER_01')\n",
      "(<Segment(60.106, 65.0166)>, 'P', 'SPEAKER_01')\n",
      "(<Segment(66.1303, 70.5516)>, 'Q', 'SPEAKER_01')\n",
      "(<Segment(71.2266, 82.9041)>, 'R', 'SPEAKER_01')\n",
      "(<Segment(77.4703, 77.4872)>, 'S', 'SPEAKER_00')\n",
      "(<Segment(83.2922, 90.0253)>, 'T', 'SPEAKER_01')\n",
      "(<Segment(95.1385, 95.4928)>, 'U', 'SPEAKER_01')\n",
      "(<Segment(97.6191, 98.1253)>, 'V', 'SPEAKER_01')\n",
      "(<Segment(99.121, 102.817)>, 'W', 'SPEAKER_01')\n",
      "(<Segment(103.441, 104.69)>, 'X', 'SPEAKER_01')\n",
      "(<Segment(106.732, 113.077)>, 'Y', 'SPEAKER_01')\n",
      "(<Segment(113.667, 121.21)>, 'Z', 'SPEAKER_01')\n",
      "(<Segment(121.987, 124.94)>, 'AA', 'SPEAKER_01')\n",
      "(<Segment(126.982, 128.45)>, 'AB', 'SPEAKER_00')\n",
      "(<Segment(128.399, 129.277)>, 'AC', 'SPEAKER_01')\n",
      "(<Segment(128.467, 128.483)>, 'AD', 'SPEAKER_00')\n",
      "(<Segment(129.428, 133.225)>, 'AE', 'SPEAKER_00')\n",
      "(<Segment(135.183, 136.01)>, 'AF', 'SPEAKER_01')\n",
      "(<Segment(138.963, 139.705)>, 'AG', 'SPEAKER_01')\n",
      "(<Segment(140.701, 141.983)>, 'AH', 'SPEAKER_01')\n"
     ]
    }
   ],
   "source": [
    "import torch\n",
    "# pipeline.to(torch.device(\"cuda\"))\n",
    "\n",
    "# apply pretrained pipeline\n",
    "diarization = pipeline(path)\n",
    "\n",
    "# print the result\n",
    "for line in diarization.itertracks(yield_label=True):\n",
    "    print(line)\n",
    "    "
   ]
  },
  {
   "cell_type": "code",
   "execution_count": null,
   "metadata": {},
   "outputs": [],
   "source": [
    "# create rttm file from result\n",
    "file_name = re.search(r'.*\\/(.+?)\\.wav', path).group(1)\n",
    "\n",
    "f = open(f\"./results/rttm/{file_name}.rttm\", \"w\")\n",
    "for turn, _, speaker in diarization.itertracks(yield_label=True):\n",
    "    f.write(f\"SPEAKER {file_name} 1 {round(turn.start, 3)} {round(turn.end-turn.start, 3)} <NA> <NA> {speaker} <NA> <NA>\\n\")\n",
    "\n",
    "f.close()"
   ]
  }
 ],
 "metadata": {
  "kernelspec": {
   "display_name": "Python 3",
   "language": "python",
   "name": "python3"
  },
  "language_info": {
   "codemirror_mode": {
    "name": "ipython",
    "version": 3
   },
   "file_extension": ".py",
   "mimetype": "text/x-python",
   "name": "python",
   "nbconvert_exporter": "python",
   "pygments_lexer": "ipython3",
   "version": "3.12.9"
  }
 },
 "nbformat": 4,
 "nbformat_minor": 2
}
