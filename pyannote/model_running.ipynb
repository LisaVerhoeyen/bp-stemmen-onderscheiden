{
 "cells": [
  {
   "cell_type": "markdown",
   "metadata": {},
   "source": [
    "TODO: change to use own model instead of pretrained"
   ]
  },
  {
   "cell_type": "code",
   "execution_count": 3,
   "metadata": {},
   "outputs": [
    {
     "name": "stderr",
     "output_type": "stream",
     "text": [
      "/home/vicuser/.local/lib/python3.10/site-packages/tqdm/auto.py:21: TqdmWarning: IProgress not found. Please update jupyter and ipywidgets. See https://ipywidgets.readthedocs.io/en/stable/user_install.html\n",
      "  from .autonotebook import tqdm as notebook_tqdm\n",
      "/home/vicuser/.local/lib/python3.10/site-packages/pydub/utils.py:170: RuntimeWarning: Couldn't find ffmpeg or avconv - defaulting to ffmpeg, but may not work\n",
      "  warn(\"Couldn't find ffmpeg or avconv - defaulting to ffmpeg, but may not work\", RuntimeWarning)\n"
     ]
    }
   ],
   "source": [
    "from pyannote.audio import Pipeline\n",
    "import os\n",
    "from dotenv import load_dotenv\n",
    "import re\n",
    "from pydub import AudioSegment\n",
    "\n",
    "load_dotenv()\n",
    "\n",
    "huggingface_token = os.environ.get(\"HUGGINGFACE_TOKEN\")\n",
    "\n",
    "# TODO: change to own model\n",
    "pipeline = Pipeline.from_pretrained(\n",
    "    \"pyannote/speaker-diarization-3.1\",\n",
    "    use_auth_token=huggingface_token)"
   ]
  },
  {
   "cell_type": "code",
   "execution_count": 1,
   "metadata": {},
   "outputs": [],
   "source": [
    "# TODO: niet hardgecodeerd voor eindresultaat\n",
    "path = \"../training_database/wavs/file17.wav\""
   ]
  },
  {
   "cell_type": "code",
   "execution_count": 4,
   "metadata": {},
   "outputs": [
    {
     "name": "stderr",
     "output_type": "stream",
     "text": [
      "/home/vicuser/.local/lib/python3.10/site-packages/pyannote/audio/models/blocks/pooling.py:104: UserWarning: std(): degrees of freedom is <= 0. Correction should be strictly less than the reduction factor (input numel divided by output numel). (Triggered internally at /pytorch/aten/src/ATen/native/ReduceOps.cpp:1831.)\n",
      "  std = sequences.std(dim=-1, correction=1)\n"
     ]
    },
    {
     "ename": "",
     "evalue": "",
     "output_type": "error",
     "traceback": [
      "\u001b[1;31mThe Kernel crashed while executing code in the current cell or a previous cell. \n",
      "\u001b[1;31mPlease review the code in the cell(s) to identify a possible cause of the failure. \n",
      "\u001b[1;31mClick <a href='https://aka.ms/vscodeJupyterKernelCrash'>here</a> for more info. \n",
      "\u001b[1;31mView Jupyter <a href='command:jupyter.viewOutput'>log</a> for further details."
     ]
    }
   ],
   "source": [
    "# apply pretrained pipeline\n",
    "diarization = pipeline(path)    "
   ]
  },
  {
   "cell_type": "markdown",
   "metadata": {},
   "source": [
    "create rttm file based on model result"
   ]
  },
  {
   "cell_type": "code",
   "execution_count": 4,
   "metadata": {},
   "outputs": [],
   "source": [
    "file_name = re.search(r'.*\\/(.+?)\\.wav', path).group(1)\n",
    "\n",
    "f = open(f\"./results/rttm/{file_name}.rttm\", \"w\")\n",
    "for turn, _, speaker in diarization.itertracks(yield_label=True):\n",
    "    f.write(f\"SPEAKER {file_name} 1 {round(turn.start, 3)} {round(turn.end-turn.start, 3)} <NA> <NA> {speaker} <NA> <NA>\\n\")\n",
    "\n",
    "f.close()"
   ]
  },
  {
   "cell_type": "markdown",
   "metadata": {},
   "source": [
    "turn result into audio files"
   ]
  },
  {
   "cell_type": "code",
   "execution_count": 6,
   "metadata": {},
   "outputs": [],
   "source": [
    "audio = AudioSegment.from_wav(f\"../training_database/wavs/{file_name}.wav\")\n",
    "os.mkdir(f\"./results/audio/{file_name}/\")\n",
    "for turn, _, speaker in diarization.itertracks(yield_label=True):\n",
    "    if not os.path.isdir(f\"./results/audio/{file_name}/{speaker}\"):\n",
    "        os.mkdir(f\"./results/audio/{file_name}/{speaker}\")\n",
    "\n",
    "    segment = audio[turn.start * 1000:turn.end * 1000]  # Convert seconds to milliseconds\n",
    "    segment.export(f\"./results/audio/{file_name}/{speaker}/speaker_{speaker}_{turn.start:.1f}-{turn.end:.1f}.wav\", format=\"wav\")"
   ]
  },
  {
   "cell_type": "markdown",
   "metadata": {},
   "source": [
    "create audio file based on speaker by combining audio files"
   ]
  },
  {
   "cell_type": "code",
   "execution_count": 7,
   "metadata": {},
   "outputs": [],
   "source": [
    "speakers = os.listdir(f\"./results/audio/{file_name}\")\n",
    "\n",
    "for speaker in speakers:\n",
    "    files_list = os.listdir(f\"./results/audio/{file_name}/{speaker}\")\n",
    "\n",
    "    combined = AudioSegment.from_file(f\"./results/audio/{file_name}/{speaker}/{files_list[0]}\")\n",
    "    for i in range(1,len(files_list)):\n",
    "        combined = combined + AudioSegment.from_file(f\"./results/audio/{file_name}/{speaker}/{files_list[i]}\")\n",
    "\n",
    "    combined.export(f\"./results/audio/{file_name}_{speaker}.wav\", format=\"wav\")"
   ]
  }
 ],
 "metadata": {
  "kernelspec": {
   "display_name": "Python 3",
   "language": "python",
   "name": "python3"
  },
  "language_info": {
   "codemirror_mode": {
    "name": "ipython",
    "version": 3
   },
   "file_extension": ".py",
   "mimetype": "text/x-python",
   "name": "python",
   "nbconvert_exporter": "python",
   "pygments_lexer": "ipython3",
   "version": "3.10.12"
  }
 },
 "nbformat": 4,
 "nbformat_minor": 2
}
