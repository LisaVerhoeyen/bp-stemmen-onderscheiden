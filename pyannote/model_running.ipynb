{
 "cells": [
  {
   "cell_type": "markdown",
   "metadata": {},
   "source": [
    "TODO: change to use own model instead of pretrained"
   ]
  },
  {
   "cell_type": "code",
   "execution_count": 20,
   "metadata": {},
   "outputs": [],
   "source": [
    "from pathlib import Path\n",
    "import yaml\n",
    "from pyannote.audio import Pipeline, Model\n",
    "import os\n",
    "from dotenv import load_dotenv\n",
    "import re\n",
    "from pydub import AudioSegment\n",
    "from pyannote.audio.pipelines import SpeakerDiarization\n",
    "from natsort import natsorted\n",
    "\n",
    "load_dotenv()\n",
    "\n",
    "huggingface_token = os.environ.get(\"HUGGINGFACE_TOKEN\")"
   ]
  },
  {
   "cell_type": "code",
   "execution_count": 2,
   "metadata": {},
   "outputs": [
    {
     "data": {
      "text/plain": [
       "'params:\\n  clustering:\\n    method: centroid\\n    min_cluster_size: 15\\n    threshold: 0.7097170356971093\\n  segmentation:\\n    min_duration_off: 0.0\\n'"
      ]
     },
     "execution_count": 2,
     "metadata": {},
     "output_type": "execute_result"
    }
   ],
   "source": [
    "trained_pipeline = Pipeline.from_pretrained(Path(\"./pipeline/config.yaml\"))\n",
    "model = Model.from_pretrained(\"./models/trained_model.ckpt\")\n",
    "trained_pipeline.segmentation_model = model\n",
    "\n",
    "with open(\"./parameters/config.yaml\", \"r\") as f:\n",
    "    parameters = yaml.safe_load(f)\n",
    "\n",
    "params = parameters[\"params\"]\n",
    "\n",
    "params_clust = params[\"clustering\"]\n",
    "\n",
    "trained_pipeline.instantiate({\n",
    "        \"segmentation\": {\"min_duration_off\": params[\"segmentation\"][\"min_duration_off\"]},\n",
    "        \"clustering\": params[\"clustering\"]\n",
    "})\n",
    "\n",
    "trained_pipeline.dump_params(Path('./parameters/temp.yaml'))"
   ]
  },
  {
   "cell_type": "code",
   "execution_count": 3,
   "metadata": {},
   "outputs": [
    {
     "data": {
      "text/plain": [
       "<pyannote.audio.pipelines.speaker_diarization.SpeakerDiarization at 0x7f756c513370>"
      ]
     },
     "execution_count": 3,
     "metadata": {},
     "output_type": "execute_result"
    }
   ],
   "source": [
    "pipeline = SpeakerDiarization(\n",
    "    segmentation=model,\n",
    "    embedding=trained_pipeline.embedding,\n",
    "    embedding_exclude_overlap=trained_pipeline.embedding_exclude_overlap,\n",
    "    clustering=trained_pipeline.klustering,\n",
    ")\n",
    "\n",
    "with open(\"./parameters/config.yaml\", \"r\") as f:\n",
    "    loaded_parameters = yaml.safe_load(f)\n",
    "\n",
    "loaded_params = loaded_parameters[\"params\"]\n",
    "\n",
    "params_clust = loaded_params[\"clustering\"]\n",
    "\n",
    "parameters_segm = parameters[\"params\"][\"segmentation\"]\n",
    "\n",
    "\n",
    "pipeline.instantiate({\n",
    "    \"segmentation\": {\n",
    "        \"min_duration_off\": parameters_segm[\"min_duration_off\"],\n",
    "        \"threshold\": parameters_segm[\"threshold\"]\n",
    "    },\n",
    "    \"clustering\": params_clust\n",
    "})\n",
    "\n",
    "# trained_pipeline.dump_params(Path('./parameters/temp.yaml'))"
   ]
  },
  {
   "cell_type": "code",
   "execution_count": 4,
   "metadata": {},
   "outputs": [],
   "source": [
    "# TODO: niet hardgecodeerd voor eindresultaat\n",
    "path = \"../audio-fragmenten/audio/BP_elderspeak_01-03-2024/1-03-lab1.wav\""
   ]
  },
  {
   "cell_type": "code",
   "execution_count": 5,
   "metadata": {},
   "outputs": [
    {
     "name": "stderr",
     "output_type": "stream",
     "text": [
      "/home/lisa_verhoeyen/.local/lib/python3.10/site-packages/pyannote/audio/models/blocks/pooling.py:104: UserWarning: std(): degrees of freedom is <= 0. Correction should be strictly less than the reduction factor (input numel divided by output numel). (Triggered internally at /pytorch/aten/src/ATen/native/ReduceOps.cpp:1839.)\n",
      "  std = sequences.std(dim=-1, correction=1)\n"
     ]
    }
   ],
   "source": [
    "# apply pretrained pipeline\n",
    "diarization = pipeline(path)    "
   ]
  },
  {
   "cell_type": "markdown",
   "metadata": {},
   "source": [
    "create rttm file based on model result"
   ]
  },
  {
   "cell_type": "code",
   "execution_count": 6,
   "metadata": {},
   "outputs": [],
   "source": [
    "file_name = re.search(r'.*\\/(.+?)\\.wav', path).group(1)\n",
    "\n",
    "# delete file if it already exists so a new file can get created\n",
    "if os.path.exists(f\"./results/rttm/{file_name}.rttm\"):\n",
    "    os.remove(f\"./results/rttm/{file_name}.rttm\")\n",
    "\n",
    "f = open(f\"./results/rttm/{file_name}.rttm\", \"w\")\n",
    "for turn, _, speaker in diarization.itertracks(yield_label=True):\n",
    "    f.write(f\"SPEAKER {file_name} 1 {round(turn.start, 3)} {round(turn.end-turn.start, 3)} <NA> <NA> {speaker} <NA> <NA>\\n\")\n",
    "\n",
    "f.close()"
   ]
  },
  {
   "cell_type": "markdown",
   "metadata": {},
   "source": [
    "turn result into audio files"
   ]
  },
  {
   "cell_type": "code",
   "execution_count": null,
   "metadata": {},
   "outputs": [],
   "source": [
    "audio = AudioSegment.from_wav(f\"../audio-fragmenten/audio/BP_elderspeak_01-03-2024/{file_name}.wav\")\n",
    "\n",
    "# if os.path.exists(f\"./results/audio/{file_name}/\"):\n",
    "#     os.rmdir(f\"./results/audio/{file_name}/\")\n",
    "\n",
    "os.mkdir(f\"./results/audio/{file_name}/\")\n",
    "\n",
    "\n",
    "for turn, _, speaker in diarization.itertracks(yield_label=True):\n",
    "    if not os.path.isdir(f\"./results/audio/{file_name}/{speaker}\"):\n",
    "        os.mkdir(f\"./results/audio/{file_name}/{speaker}\")\n",
    "\n",
    "    segment = audio[turn.start * 1000:turn.end * 1000]  # Convert seconds to milliseconds\n",
    "    segment.export(f\"./results/audio/{file_name}/{speaker}/speaker_{speaker}_{turn.start:.1f}-{turn.end:.1f}.wav\", format=\"wav\")"
   ]
  },
  {
   "cell_type": "markdown",
   "metadata": {},
   "source": [
    "create audio file based on speaker by combining audio files"
   ]
  },
  {
   "cell_type": "code",
   "execution_count": null,
   "metadata": {},
   "outputs": [
    {
     "name": "stdout",
     "output_type": "stream",
     "text": [
      "['speaker_SPEAKER_00_0.0-0.1.wav', 'speaker_SPEAKER_00_14.1-15.4.wav', 'speaker_SPEAKER_00_15.4-15.4.wav', 'speaker_SPEAKER_00_16.1-16.1.wav', 'speaker_SPEAKER_00_16.2-17.3.wav', 'speaker_SPEAKER_00_27.3-28.1.wav', 'speaker_SPEAKER_00_30.2-32.1.wav', 'speaker_SPEAKER_00_35.2-35.8.wav', 'speaker_SPEAKER_00_36.6-36.6.wav', 'speaker_SPEAKER_00_113.4-113.6.wav', 'speaker_SPEAKER_00_122.3-122.4.wav', 'speaker_SPEAKER_00_127.8-128.5.wav', 'speaker_SPEAKER_00_128.7-129.0.wav', 'speaker_SPEAKER_00_131.5-132.4.wav', 'speaker_SPEAKER_00_135.1-135.8.wav', 'speaker_SPEAKER_00_140.5-140.5.wav', 'speaker_SPEAKER_00_140.5-140.6.wav', 'speaker_SPEAKER_00_140.7-140.7.wav', 'speaker_SPEAKER_00_149.9-150.6.wav', 'speaker_SPEAKER_00_150.6-150.6.wav', 'speaker_SPEAKER_00_153.8-155.7.wav', 'speaker_SPEAKER_00_161.1-162.0.wav', 'speaker_SPEAKER_00_164.0-166.1.wav', 'speaker_SPEAKER_00_166.2-166.3.wav', 'speaker_SPEAKER_00_166.3-166.4.wav', 'speaker_SPEAKER_00_166.4-166.4.wav', 'speaker_SPEAKER_00_166.6-167.2.wav', 'speaker_SPEAKER_00_168.1-168.2.wav', 'speaker_SPEAKER_00_170.6-170.8.wav', 'speaker_SPEAKER_00_171.0-172.4.wav', 'speaker_SPEAKER_00_172.5-172.5.wav', 'speaker_SPEAKER_00_172.6-172.8.wav']\n",
      "['speaker_SPEAKER_01_24.0-26.6.wav', 'speaker_SPEAKER_01_43.6-44.9.wav', 'speaker_SPEAKER_01_47.8-63.8.wav', 'speaker_SPEAKER_01_68.0-83.2.wav', 'speaker_SPEAKER_01_92.4-93.8.wav', 'speaker_SPEAKER_01_111.0-113.4.wav', 'speaker_SPEAKER_01_116.7-118.0.wav', 'speaker_SPEAKER_01_118.1-118.6.wav', 'speaker_SPEAKER_01_119.7-127.8.wav', 'speaker_SPEAKER_01_130.1-131.5.wav', 'speaker_SPEAKER_01_135.8-138.0.wav', 'speaker_SPEAKER_01_144.6-149.3.wav', 'speaker_SPEAKER_01_151.8-154.0.wav', 'speaker_SPEAKER_01_156.5-157.6.wav', 'speaker_SPEAKER_01_162.0-164.0.wav', 'speaker_SPEAKER_01_168.4-170.6.wav']\n",
      "['speaker_SPEAKER_02_9.2-9.4.wav', 'speaker_SPEAKER_02_9.6-10.3.wav', 'speaker_SPEAKER_02_18.7-24.0.wav', 'speaker_SPEAKER_02_39.5-43.6.wav', 'speaker_SPEAKER_02_44.9-47.8.wav', 'speaker_SPEAKER_02_63.8-63.8.wav', 'speaker_SPEAKER_02_63.9-68.0.wav', 'speaker_SPEAKER_02_83.2-85.2.wav', 'speaker_SPEAKER_02_85.7-86.3.wav', 'speaker_SPEAKER_02_86.7-92.4.wav', 'speaker_SPEAKER_02_93.8-99.2.wav', 'speaker_SPEAKER_02_99.4-111.0.wav', 'speaker_SPEAKER_02_118.0-119.2.wav', 'speaker_SPEAKER_02_168.2-168.4.wav']\n"
     ]
    }
   ],
   "source": [
    "speakers = os.listdir(f\"./results/audio/{file_name}\")\n",
    "\n",
    "for speaker in speakers:\n",
    "    files_list = os.listdir(f\"./results/audio/{file_name}/{speaker}\")\n",
    "    files_list = natsorted(files_list)\n",
    "\n",
    "    combined = AudioSegment.from_file(f\"./results/audio/{file_name}/{speaker}/{files_list[0]}\")\n",
    "    for i in range(1,len(files_list)):\n",
    "        combined = combined.append(AudioSegment.from_file(f\"./results/audio/{file_name}/{speaker}/{files_list[i]}\"), crossfade=0.0)\n",
    "\n",
    "    combined.export(f\"./results/audio/{file_name}_{speaker}.wav\", format=\"wav\")"
   ]
  },
  {
   "cell_type": "markdown",
   "metadata": {},
   "source": [
    "## Testing stuff"
   ]
  }
 ],
 "metadata": {
  "kernelspec": {
   "display_name": "Python 3",
   "language": "python",
   "name": "python3"
  },
  "language_info": {
   "codemirror_mode": {
    "name": "ipython",
    "version": 3
   },
   "file_extension": ".py",
   "mimetype": "text/x-python",
   "name": "python",
   "nbconvert_exporter": "python",
   "pygments_lexer": "ipython3",
   "version": "3.10.12"
  }
 },
 "nbformat": 4,
 "nbformat_minor": 2
}
