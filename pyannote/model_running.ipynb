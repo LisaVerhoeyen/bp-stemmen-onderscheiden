{
 "cells": [
  {
   "cell_type": "markdown",
   "metadata": {},
   "source": [
    "TODO: change to use own model instead of pretrained"
   ]
  },
  {
   "cell_type": "code",
   "execution_count": 20,
   "metadata": {},
   "outputs": [
    {
     "name": "stderr",
     "output_type": "stream",
     "text": [
      "C:\\Users\\verho\\AppData\\Local\\Packages\\PythonSoftwareFoundation.Python.3.12_qbz5n2kfra8p0\\LocalCache\\local-packages\\Python312\\site-packages\\pydub\\utils.py:170: RuntimeWarning: Couldn't find ffmpeg or avconv - defaulting to ffmpeg, but may not work\n",
      "  warn(\"Couldn't find ffmpeg or avconv - defaulting to ffmpeg, but may not work\", RuntimeWarning)\n"
     ]
    }
   ],
   "source": [
    "from pyannote.audio import Pipeline\n",
    "import os\n",
    "from dotenv import load_dotenv\n",
    "import re\n",
    "from pydub import AudioSegment\n",
    "\n",
    "load_dotenv()\n",
    "\n",
    "huggingface_token = os.environ.get(\"HUGGINGFACE_TOKEN\")\n",
    "\n",
    "# TODO: change to own model\n",
    "pipeline = Pipeline.from_pretrained(\n",
    "    \"pyannote/speaker-diarization-3.1\",\n",
    "    use_auth_token=huggingface_token)"
   ]
  },
  {
   "cell_type": "code",
   "execution_count": null,
   "metadata": {},
   "outputs": [],
   "source": [
    "path = \"../training_database/wavs/file19.wav\""
   ]
  },
  {
   "cell_type": "code",
   "execution_count": null,
   "metadata": {},
   "outputs": [],
   "source": [
    "# apply pretrained pipeline\n",
    "diarization = pipeline(path)    "
   ]
  },
  {
   "cell_type": "markdown",
   "metadata": {},
   "source": [
    "create rttm file based on model result"
   ]
  },
  {
   "cell_type": "code",
   "execution_count": null,
   "metadata": {},
   "outputs": [],
   "source": [
    "file_name = re.search(r'.*\\/(.+?)\\.wav', path).group(1)\n",
    "\n",
    "f = open(f\"./results/rttm/{file_name}.rttm\", \"w\")\n",
    "for turn, _, speaker in diarization.itertracks(yield_label=True):\n",
    "    f.write(f\"SPEAKER {file_name} 1 {round(turn.start, 3)} {round(turn.end-turn.start, 3)} <NA> <NA> {speaker} <NA> <NA>\\n\")\n",
    "\n",
    "f.close()"
   ]
  },
  {
   "cell_type": "markdown",
   "metadata": {},
   "source": [
    "turn result into audio files"
   ]
  },
  {
   "cell_type": "code",
   "execution_count": 30,
   "metadata": {},
   "outputs": [],
   "source": [
    "audio = AudioSegment.from_wav(f\"../training_database/wavs/{file_name}.wav\")\n",
    "os.mkdir(f\"./results/audio/{file_name}/\")\n",
    "for turn, _, speaker in diarization.itertracks(yield_label=True):\n",
    "    if not os.path.isdir(f\"./results/audio/{file_name}/{speaker}\"):\n",
    "        os.mkdir(f\"./results/audio/{file_name}/{speaker}\")\n",
    "\n",
    "    segment = audio[turn.start * 1000:turn.end * 1000]  # Convert seconds to milliseconds\n",
    "    segment.export(f\"./results/audio/{file_name}/{speaker}/speaker_{speaker}_{turn.start:.1f}-{turn.end:.1f}.wav\", format=\"wav\")"
   ]
  },
  {
   "cell_type": "markdown",
   "metadata": {},
   "source": [
    "create audio file based on speaker by combining audio files"
   ]
  },
  {
   "cell_type": "code",
   "execution_count": null,
   "metadata": {},
   "outputs": [
    {
     "name": "stdout",
     "output_type": "stream",
     "text": [
      "['speaker_SPEAKER_00_127.0-128.4.wav', 'speaker_SPEAKER_00_128.5-128.5.wav', 'speaker_SPEAKER_00_129.4-133.2.wav', 'speaker_SPEAKER_00_77.5-77.5.wav']\n",
      "['speaker_SPEAKER_01_10.8-12.4.wav', 'speaker_SPEAKER_01_103.4-104.7.wav', 'speaker_SPEAKER_01_106.7-113.1.wav', 'speaker_SPEAKER_01_113.7-121.2.wav', 'speaker_SPEAKER_01_12.7-14.8.wav', 'speaker_SPEAKER_01_122.0-124.9.wav', 'speaker_SPEAKER_01_128.4-129.3.wav', 'speaker_SPEAKER_01_135.2-136.0.wav', 'speaker_SPEAKER_01_139.0-139.7.wav', 'speaker_SPEAKER_01_140.7-142.0.wav', 'speaker_SPEAKER_01_15.4-18.3.wav', 'speaker_SPEAKER_01_18.6-19.3.wav', 'speaker_SPEAKER_01_21.0-21.7.wav', 'speaker_SPEAKER_01_22.6-26.0.wav', 'speaker_SPEAKER_01_26.5-28.6.wav', 'speaker_SPEAKER_01_28.8-30.6.wav', 'speaker_SPEAKER_01_31.2-34.9.wav', 'speaker_SPEAKER_01_34.9-37.5.wav', 'speaker_SPEAKER_01_38.0-38.8.wav', 'speaker_SPEAKER_01_41.6-43.5.wav', 'speaker_SPEAKER_01_44.0-48.0.wav', 'speaker_SPEAKER_01_49.0-51.3.wav', 'speaker_SPEAKER_01_52.2-59.6.wav', 'speaker_SPEAKER_01_60.1-65.0.wav', 'speaker_SPEAKER_01_66.1-70.6.wav', 'speaker_SPEAKER_01_71.2-82.9.wav', 'speaker_SPEAKER_01_83.3-90.0.wav', 'speaker_SPEAKER_01_95.1-95.5.wav', 'speaker_SPEAKER_01_97.6-98.1.wav', 'speaker_SPEAKER_01_99.1-102.8.wav']\n"
     ]
    }
   ],
   "source": [
    "speakers = os.listdir(f\"./results/audio/{file_name}\")\n",
    "\n",
    "for speaker in speakers:\n",
    "    files_list = os.listdir(f\"./results/audio/{file_name}/{speaker}\")\n",
    "\n",
    "    combined = AudioSegment.from_file(f\"./results/audio/{file_name}/{speaker}/{files_list[0]}\")\n",
    "    for i in range(1,len(files_list)):\n",
    "        combined = combined + AudioSegment.from_file(f\"./results/audio/{file_name}/{speaker}/{files_list[i]}\")\n",
    "\n",
    "    combined.export(f\"./results/audio/{file_name}_{speaker}.wav\", format=\"wav\")"
   ]
  }
 ],
 "metadata": {
  "kernelspec": {
   "display_name": "Python 3",
   "language": "python",
   "name": "python3"
  },
  "language_info": {
   "codemirror_mode": {
    "name": "ipython",
    "version": 3
   },
   "file_extension": ".py",
   "mimetype": "text/x-python",
   "name": "python",
   "nbconvert_exporter": "python",
   "pygments_lexer": "ipython3",
   "version": "3.12.9"
  }
 },
 "nbformat": 4,
 "nbformat_minor": 2
}
