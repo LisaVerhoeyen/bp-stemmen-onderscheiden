{
 "cells": [
  {
   "cell_type": "markdown",
   "metadata": {},
   "source": [
    "TODO: change to use own model instead of pretrained"
   ]
  },
  {
   "cell_type": "code",
   "execution_count": 10,
   "metadata": {},
   "outputs": [],
   "source": [
    "from pathlib import Path\n",
    "import yaml\n",
    "from pyannote.audio import Pipeline, Model\n",
    "import os\n",
    "from dotenv import load_dotenv\n",
    "import re\n",
    "from pydub import AudioSegment\n",
    "from pyannote.audio.pipelines import SpeakerDiarization\n",
    "from natsort import natsorted\n",
    "\n",
    "load_dotenv()\n",
    "\n",
    "huggingface_token = os.environ.get(\"HUGGINGFACE_TOKEN\")"
   ]
  },
  {
   "cell_type": "code",
   "execution_count": 11,
   "metadata": {},
   "outputs": [
    {
     "data": {
      "text/plain": [
       "<pyannote.audio.pipelines.speaker_diarization.SpeakerDiarization at 0x786e3fdb6a10>"
      ]
     },
     "execution_count": 11,
     "metadata": {},
     "output_type": "execute_result"
    }
   ],
   "source": [
    "trained_pipeline = Pipeline.from_pretrained(Path(\"./pipeline/config.yaml\"))\n",
    "model = Model.from_pretrained(\"./models/trained_model.ckpt\")\n",
    "trained_pipeline.segmentation_model = model\n",
    "\n",
    "with open(\"./parameters/config.yaml\", \"r\") as f:\n",
    "    parameters = yaml.safe_load(f)\n",
    "\n",
    "params = parameters[\"params\"]\n",
    "\n",
    "params_clust = params[\"clustering\"]\n",
    "\n",
    "trained_pipeline.instantiate({\n",
    "        \"segmentation\": {\"min_duration_off\": params[\"segmentation\"][\"min_duration_off\"]},\n",
    "        \"clustering\": params[\"clustering\"]\n",
    "})"
   ]
  },
  {
   "cell_type": "code",
   "execution_count": 12,
   "metadata": {},
   "outputs": [
    {
     "data": {
      "text/plain": [
       "<pyannote.audio.pipelines.speaker_diarization.SpeakerDiarization at 0x786df783fbe0>"
      ]
     },
     "execution_count": 12,
     "metadata": {},
     "output_type": "execute_result"
    }
   ],
   "source": [
    "pipeline = SpeakerDiarization(\n",
    "    segmentation=model,\n",
    "    embedding=trained_pipeline.embedding,\n",
    "    embedding_exclude_overlap=trained_pipeline.embedding_exclude_overlap,\n",
    "    clustering=trained_pipeline.klustering,\n",
    ")\n",
    "\n",
    "with open(\"./parameters/config.yaml\", \"r\") as f:\n",
    "    loaded_parameters = yaml.safe_load(f)\n",
    "\n",
    "loaded_params = loaded_parameters[\"params\"]\n",
    "\n",
    "params_clust = loaded_params[\"clustering\"]\n",
    "\n",
    "parameters_segm = parameters[\"params\"][\"segmentation\"]\n",
    "\n",
    "\n",
    "pipeline.instantiate({\n",
    "    \"segmentation\": {\n",
    "        \"min_duration_off\": parameters_segm[\"min_duration_off\"],\n",
    "        \"threshold\": parameters_segm[\"threshold\"]\n",
    "    },\n",
    "    \"clustering\": params_clust\n",
    "})"
   ]
  },
  {
   "cell_type": "code",
   "execution_count": 13,
   "metadata": {},
   "outputs": [],
   "source": [
    "# TODO: niet hardgecodeerd voor eindresultaat\n",
    "path = \"../training_database_v3/wavs/file22.wav\""
   ]
  },
  {
   "cell_type": "code",
   "execution_count": 14,
   "metadata": {},
   "outputs": [
    {
     "name": "stderr",
     "output_type": "stream",
     "text": [
      "/home/lisa_verhoeyen/.local/lib/python3.10/site-packages/pyannote/audio/models/blocks/pooling.py:104: UserWarning: std(): degrees of freedom is <= 0. Correction should be strictly less than the reduction factor (input numel divided by output numel). (Triggered internally at /pytorch/aten/src/ATen/native/ReduceOps.cpp:1839.)\n",
      "  std = sequences.std(dim=-1, correction=1)\n"
     ]
    }
   ],
   "source": [
    "# apply pretrained pipeline\n",
    "diarization = pipeline(path)    "
   ]
  },
  {
   "cell_type": "markdown",
   "metadata": {},
   "source": [
    "create rttm file based on model result"
   ]
  },
  {
   "cell_type": "code",
   "execution_count": 15,
   "metadata": {},
   "outputs": [],
   "source": [
    "file_name = re.search(r'.*\\/(.+?)\\.wav', path).group(1)\n",
    "\n",
    "# delete file if it already exists so a new file can get created\n",
    "if os.path.exists(f\"./results/rttm/{file_name}.rttm\"):\n",
    "    os.remove(f\"./results/rttm/{file_name}.rttm\")\n",
    "\n",
    "f = open(f\"./results/rttm/{file_name}.rttm\", \"w\")\n",
    "for turn, _, speaker in diarization.itertracks(yield_label=True):\n",
    "    f.write(f\"SPEAKER {file_name} 1 {round(turn.start, 3)} {round(turn.end-turn.start, 3)} <NA> <NA> {speaker} <NA> <NA>\\n\")\n",
    "\n",
    "f.close()"
   ]
  },
  {
   "cell_type": "markdown",
   "metadata": {},
   "source": [
    "turn result into audio files"
   ]
  },
  {
   "cell_type": "code",
   "execution_count": 16,
   "metadata": {},
   "outputs": [],
   "source": [
    "audio = AudioSegment.from_wav(path)\n",
    "\n",
    "os.mkdir(f\"./results/audio/{file_name}/\")\n",
    "\n",
    "\n",
    "for turn, _, speaker in diarization.itertracks(yield_label=True):\n",
    "    if not os.path.isdir(f\"./results/audio/{file_name}/{speaker}\"):\n",
    "        os.mkdir(f\"./results/audio/{file_name}/{speaker}\")\n",
    "\n",
    "    segment = audio[turn.start * 1000:turn.end * 1000]  # Convert seconds to milliseconds\n",
    "    segment.export(f\"./results/audio/{file_name}/{speaker}/speaker_{speaker}_{turn.start:.1f}-{turn.end:.1f}.wav\", format=\"wav\")"
   ]
  },
  {
   "cell_type": "markdown",
   "metadata": {},
   "source": [
    "create audio file based on speaker by combining audio files"
   ]
  },
  {
   "cell_type": "code",
   "execution_count": 17,
   "metadata": {},
   "outputs": [],
   "source": [
    "speakers = os.listdir(f\"./results/audio/{file_name}\")\n",
    "\n",
    "for speaker in speakers:\n",
    "    files_list = os.listdir(f\"./results/audio/{file_name}/{speaker}\")\n",
    "    files_list = natsorted(files_list)\n",
    "\n",
    "    combined = AudioSegment.from_file(f\"./results/audio/{file_name}/{speaker}/{files_list[0]}\")\n",
    "    for i in range(1,len(files_list)):\n",
    "        combined = combined.append(AudioSegment.from_file(f\"./results/audio/{file_name}/{speaker}/{files_list[i]}\"), crossfade=0.0)\n",
    "\n",
    "    combined.export(f\"./results/audio/{file_name}_{speaker}.wav\", format=\"wav\")"
   ]
  }
 ],
 "metadata": {
  "kernelspec": {
   "display_name": "Python 3",
   "language": "python",
   "name": "python3"
  },
  "language_info": {
   "codemirror_mode": {
    "name": "ipython",
    "version": 3
   },
   "file_extension": ".py",
   "mimetype": "text/x-python",
   "name": "python",
   "nbconvert_exporter": "python",
   "pygments_lexer": "ipython3",
   "version": "3.10.12"
  }
 },
 "nbformat": 4,
 "nbformat_minor": 2
}
