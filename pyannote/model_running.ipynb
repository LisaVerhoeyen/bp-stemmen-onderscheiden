{
 "cells": [
  {
   "cell_type": "markdown",
   "metadata": {},
   "source": [
    "TODO: change to use own model instead of pretrained"
   ]
  },
  {
   "cell_type": "code",
   "execution_count": 1,
   "metadata": {},
   "outputs": [
    {
     "name": "stderr",
     "output_type": "stream",
     "text": [
      "/home/lisa_verhoeyen/.local/lib/python3.10/site-packages/tqdm/auto.py:21: TqdmWarning: IProgress not found. Please update jupyter and ipywidgets. See https://ipywidgets.readthedocs.io/en/stable/user_install.html\n",
      "  from .autonotebook import tqdm as notebook_tqdm\n",
      "/home/lisa_verhoeyen/.local/lib/python3.10/site-packages/pydub/utils.py:170: RuntimeWarning: Couldn't find ffmpeg or avconv - defaulting to ffmpeg, but may not work\n",
      "  warn(\"Couldn't find ffmpeg or avconv - defaulting to ffmpeg, but may not work\", RuntimeWarning)\n"
     ]
    }
   ],
   "source": [
    "from pathlib import Path\n",
    "import yaml\n",
    "from pyannote.audio import Pipeline, Model\n",
    "import os\n",
    "from dotenv import load_dotenv\n",
    "import re\n",
    "from pydub import AudioSegment\n",
    "from pyannote.audio.pipelines import SpeakerDiarization\n",
    "\n",
    "load_dotenv()\n",
    "\n",
    "huggingface_token = os.environ.get(\"HUGGINGFACE_TOKEN\")"
   ]
  },
  {
   "cell_type": "code",
   "execution_count": 2,
   "metadata": {},
   "outputs": [
    {
     "data": {
      "text/plain": [
       "'params:\\n  clustering:\\n    method: centroid\\n    min_cluster_size: 15\\n    threshold: 0.6887510457871151\\n  segmentation:\\n    min_duration_off: 0.0\\n'"
      ]
     },
     "execution_count": 2,
     "metadata": {},
     "output_type": "execute_result"
    }
   ],
   "source": [
    "trained_pipeline = Pipeline.from_pretrained(Path(\"./pipeline/config.yaml\"))\n",
    "model = Model.from_pretrained(\"./models/trained_model.ckpt\")\n",
    "trained_pipeline.segmentation_model = model\n",
    "\n",
    "with open(\"./parameters/config.yaml\", \"r\") as f:\n",
    "    parameters = yaml.safe_load(f)\n",
    "\n",
    "params = parameters[\"params\"]\n",
    "\n",
    "params_clust = params[\"clustering\"]\n",
    "\n",
    "trained_pipeline.instantiate({\n",
    "        \"segmentation\": {\"min_duration_off\": params[\"segmentation\"][\"min_duration_off\"]},\n",
    "        \"clustering\": params[\"clustering\"]\n",
    "})\n",
    "\n",
    "trained_pipeline.dump_params(Path('./parameters/temp.yaml'))"
   ]
  },
  {
   "cell_type": "code",
   "execution_count": 3,
   "metadata": {},
   "outputs": [
    {
     "data": {
      "text/plain": [
       "<pyannote.audio.pipelines.speaker_diarization.SpeakerDiarization at 0x7f8b52672cb0>"
      ]
     },
     "execution_count": 3,
     "metadata": {},
     "output_type": "execute_result"
    }
   ],
   "source": [
    "pipeline = SpeakerDiarization(\n",
    "    segmentation=model,\n",
    "    embedding=trained_pipeline.embedding,\n",
    "    embedding_exclude_overlap=trained_pipeline.embedding_exclude_overlap,\n",
    "    clustering=trained_pipeline.klustering,\n",
    ")\n",
    "\n",
    "with open(\"./parameters/config.yaml\", \"r\") as f:\n",
    "    loaded_parameters = yaml.safe_load(f)\n",
    "\n",
    "loaded_params = loaded_parameters[\"params\"]\n",
    "\n",
    "params_clust = loaded_params[\"clustering\"]\n",
    "\n",
    "parameters_segm = parameters[\"params\"][\"segmentation\"]\n",
    "\n",
    "\n",
    "pipeline.instantiate({\n",
    "    \"segmentation\": {\n",
    "        \"min_duration_off\": parameters_segm[\"min_duration_off\"],\n",
    "        \"threshold\": parameters_segm[\"threshold\"]\n",
    "    },\n",
    "    \"clustering\": params_clust\n",
    "})\n",
    "\n",
    "# trained_pipeline.dump_params(Path('./parameters/temp.yaml'))"
   ]
  },
  {
   "cell_type": "code",
   "execution_count": 4,
   "metadata": {},
   "outputs": [],
   "source": [
    "# TODO: niet hardgecodeerd voor eindresultaat\n",
    "path = \"../audio-fragmenten/audio/BP_elderspeak_01-03-2024/1-03-lab1.wav\""
   ]
  },
  {
   "cell_type": "code",
   "execution_count": 5,
   "metadata": {},
   "outputs": [
    {
     "name": "stderr",
     "output_type": "stream",
     "text": [
      "/home/lisa_verhoeyen/.local/lib/python3.10/site-packages/pyannote/audio/models/blocks/pooling.py:104: UserWarning: std(): degrees of freedom is <= 0. Correction should be strictly less than the reduction factor (input numel divided by output numel). (Triggered internally at /pytorch/aten/src/ATen/native/ReduceOps.cpp:1839.)\n",
      "  std = sequences.std(dim=-1, correction=1)\n"
     ]
    }
   ],
   "source": [
    "# apply pretrained pipeline\n",
    "diarization = pipeline(path)    "
   ]
  },
  {
   "cell_type": "markdown",
   "metadata": {},
   "source": [
    "create rttm file based on model result"
   ]
  },
  {
   "cell_type": "code",
   "execution_count": 6,
   "metadata": {},
   "outputs": [],
   "source": [
    "file_name = re.search(r'.*\\/(.+?)\\.wav', path).group(1)\n",
    "\n",
    "# delete file if it already exists so a new file can get created\n",
    "if os.path.exists(f\"./results/rttm/{file_name}.rttm\"):\n",
    "    os.remove(f\"./results/rttm/{file_name}.rttm\")\n",
    "\n",
    "f = open(f\"./results/rttm/{file_name}.rttm\", \"w\")\n",
    "for turn, _, speaker in diarization.itertracks(yield_label=True):\n",
    "    f.write(f\"SPEAKER {file_name} 1 {round(turn.start, 3)} {round(turn.end-turn.start, 3)} <NA> <NA> {speaker} <NA> <NA>\\n\")\n",
    "\n",
    "f.close()"
   ]
  },
  {
   "cell_type": "markdown",
   "metadata": {},
   "source": [
    "turn result into audio files"
   ]
  },
  {
   "cell_type": "code",
   "execution_count": null,
   "metadata": {},
   "outputs": [
    {
     "ename": "FileExistsError",
     "evalue": "[Errno 17] File exists: './results/audio/1-03-lab1/'",
     "output_type": "error",
     "traceback": [
      "\u001b[0;31m---------------------------------------------------------------------------\u001b[0m",
      "\u001b[0;31mFileExistsError\u001b[0m                           Traceback (most recent call last)",
      "Cell \u001b[0;32mIn[10], line 6\u001b[0m\n\u001b[1;32m      1\u001b[0m audio \u001b[38;5;241m=\u001b[39m AudioSegment\u001b[38;5;241m.\u001b[39mfrom_wav(\u001b[38;5;124mf\u001b[39m\u001b[38;5;124m\"\u001b[39m\u001b[38;5;124m../audio-fragmenten/audio/BP_elderspeak_01-03-2024/\u001b[39m\u001b[38;5;132;01m{\u001b[39;00mfile_name\u001b[38;5;132;01m}\u001b[39;00m\u001b[38;5;124m.wav\u001b[39m\u001b[38;5;124m\"\u001b[39m)\n\u001b[1;32m      3\u001b[0m \u001b[38;5;66;03m# if os.path.exists(f\"./results/audio/{file_name}/\"):\u001b[39;00m\n\u001b[1;32m      4\u001b[0m \u001b[38;5;66;03m#     os.rmdir(f\"./results/audio/{file_name}/\")\u001b[39;00m\n\u001b[0;32m----> 6\u001b[0m \u001b[43mos\u001b[49m\u001b[38;5;241;43m.\u001b[39;49m\u001b[43mmkdir\u001b[49m\u001b[43m(\u001b[49m\u001b[38;5;124;43mf\u001b[39;49m\u001b[38;5;124;43m\"\u001b[39;49m\u001b[38;5;124;43m./results/audio/\u001b[39;49m\u001b[38;5;132;43;01m{\u001b[39;49;00m\u001b[43mfile_name\u001b[49m\u001b[38;5;132;43;01m}\u001b[39;49;00m\u001b[38;5;124;43m/\u001b[39;49m\u001b[38;5;124;43m\"\u001b[39;49m\u001b[43m)\u001b[49m\n\u001b[1;32m      9\u001b[0m \u001b[38;5;28;01mfor\u001b[39;00m turn, _, speaker \u001b[38;5;129;01min\u001b[39;00m diarization\u001b[38;5;241m.\u001b[39mitertracks(yield_label\u001b[38;5;241m=\u001b[39m\u001b[38;5;28;01mTrue\u001b[39;00m):\n\u001b[1;32m     10\u001b[0m     \u001b[38;5;28;01mif\u001b[39;00m \u001b[38;5;129;01mnot\u001b[39;00m os\u001b[38;5;241m.\u001b[39mpath\u001b[38;5;241m.\u001b[39misdir(\u001b[38;5;124mf\u001b[39m\u001b[38;5;124m\"\u001b[39m\u001b[38;5;124m./results/audio/\u001b[39m\u001b[38;5;132;01m{\u001b[39;00mfile_name\u001b[38;5;132;01m}\u001b[39;00m\u001b[38;5;124m/\u001b[39m\u001b[38;5;132;01m{\u001b[39;00mspeaker\u001b[38;5;132;01m}\u001b[39;00m\u001b[38;5;124m\"\u001b[39m):\n",
      "\u001b[0;31mFileExistsError\u001b[0m: [Errno 17] File exists: './results/audio/1-03-lab1/'"
     ]
    }
   ],
   "source": [
    "# TODO: maken dat fragmenten in juiste volgorde aan elkaar gehangem worden\n",
    "\n",
    "audio = AudioSegment.from_wav(f\"../audio-fragmenten/audio/BP_elderspeak_01-03-2024/{file_name}.wav\")\n",
    "\n",
    "# if os.path.exists(f\"./results/audio/{file_name}/\"):\n",
    "#     os.rmdir(f\"./results/audio/{file_name}/\")\n",
    "\n",
    "os.mkdir(f\"./results/audio/{file_name}/\")\n",
    "\n",
    "\n",
    "for turn, _, speaker in diarization.itertracks(yield_label=True):\n",
    "    if not os.path.isdir(f\"./results/audio/{file_name}/{speaker}\"):\n",
    "        os.mkdir(f\"./results/audio/{file_name}/{speaker}\")\n",
    "\n",
    "    segment = audio[turn.start * 1000:turn.end * 1000]  # Convert seconds to milliseconds\n",
    "    segment.export(f\"./results/audio/{file_name}/{speaker}/speaker_{speaker}_{turn.start:.1f}-{turn.end:.1f}.wav\", format=\"wav\")"
   ]
  },
  {
   "cell_type": "markdown",
   "metadata": {},
   "source": [
    "create audio file based on speaker by combining audio files"
   ]
  },
  {
   "cell_type": "code",
   "execution_count": 9,
   "metadata": {},
   "outputs": [],
   "source": [
    "speakers = os.listdir(f\"./results/audio/{file_name}\")\n",
    "\n",
    "for speaker in speakers:\n",
    "    files_list = os.listdir(f\"./results/audio/{file_name}/{speaker}\")\n",
    "\n",
    "    combined = AudioSegment.from_file(f\"./results/audio/{file_name}/{speaker}/{files_list[0]}\")\n",
    "    for i in range(1,len(files_list)):\n",
    "        combined = combined + AudioSegment.from_file(f\"./results/audio/{file_name}/{speaker}/{files_list[i]}\")\n",
    "\n",
    "    combined.export(f\"./results/audio/{file_name}_{speaker}.wav\", format=\"wav\")"
   ]
  }
 ],
 "metadata": {
  "kernelspec": {
   "display_name": "Python 3",
   "language": "python",
   "name": "python3"
  },
  "language_info": {
   "codemirror_mode": {
    "name": "ipython",
    "version": 3
   },
   "file_extension": ".py",
   "mimetype": "text/x-python",
   "name": "python",
   "nbconvert_exporter": "python",
   "pygments_lexer": "ipython3",
   "version": "3.10.12"
  }
 },
 "nbformat": 4,
 "nbformat_minor": 2
}
